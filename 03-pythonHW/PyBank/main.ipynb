{
 "cells": [
  {
   "cell_type": "code",
   "execution_count": null,
   "metadata": {},
   "outputs": [],
   "source": [
    "#python challenge for budget data \n",
    "import os \n",
    "import pandas as pd \n",
    "import numpy as np\n",
    "os.getcwd()"
   ]
  },
  {
   "cell_type": "code",
   "execution_count": null,
   "metadata": {},
   "outputs": [],
   "source": [
    "budget_data = '/Users/jcook/python-challenge/PyBank/Resources/budget_data.csv'\n",
    "\n",
    "budget_df = pd.read_csv(budget_data)\n",
    "\n",
    "budget_df.head()"
   ]
  },
  {
   "cell_type": "code",
   "execution_count": null,
   "metadata": {},
   "outputs": [],
   "source": [
    "#calculate the total number of months in the data\n",
    "total_months = budget_df['Date'].count()\n",
    "print(total_months)"
   ]
  },
  {
   "cell_type": "code",
   "execution_count": null,
   "metadata": {},
   "outputs": [],
   "source": [
    "#calcluate the net total amount of profits and losses over the entire period \n",
    "net_total = budget_df['Profit/Losses'].sum()\n",
    "print(net_total)"
   ]
  },
  {
   "cell_type": "code",
   "execution_count": null,
   "metadata": {},
   "outputs": [],
   "source": [
    "#calculate the average of the changes in 'profits/losses' over the entire period \n",
    "average = budget_df['Profit/Losses'].mean()\n",
    "print(average)"
   ]
  },
  {
   "cell_type": "code",
   "execution_count": null,
   "metadata": {},
   "outputs": [],
   "source": [
    "#calculate the greatest increase in profits (date and amount) over the entire peroid \n",
    "max_profit = budget_df.max()\n",
    "print(max_profit)"
   ]
  },
  {
   "cell_type": "code",
   "execution_count": null,
   "metadata": {},
   "outputs": [],
   "source": [
    "#The greatest decrease in losses (date and amount) over the entire period\n",
    "min_losses = budget_df.min()\n",
    "print(min_losses)"
   ]
  },
  {
   "cell_type": "code",
   "execution_count": null,
   "metadata": {},
   "outputs": [],
   "source": [
    "#print statement to terminal with analysis results \n",
    "\n",
    "\n",
    "print(\"Finacial Analysis\")\n",
    "print(\"---------------------------\")\n",
    "print(\"Total Months: \", total_months)\n",
    "print(\"Total: $\", net_total)\n",
    "print(\"Average Change: $\", average)\n",
    "print(\"Greatest Increase in Profits: \", max_profit)\n",
    "print(\"Greatest Decrease in Profits: \", min_losses)\n",
    "\n",
    "\n",
    "\n",
    "final_data = [['Total Months: $', total_months],\n",
    "             ['Total: $', net_total],\n",
    "             ['Average Change: $', average],\n",
    "             ['Greatest Increase in Profits: $', max_profit],\n",
    "             ['Greatest Decrease in Profits: $', min_losses]]\n",
    "final_df = pd.DataFrame(final_data, columns = ['Finacial Analysis', '$'])\n"
   ]
  },
  {
   "cell_type": "code",
   "execution_count": null,
   "metadata": {},
   "outputs": [],
   "source": []
  }
 ],
 "metadata": {
  "kernelspec": {
   "display_name": "Python 3",
   "language": "python",
   "name": "python3"
  },
  "language_info": {
   "codemirror_mode": {
    "name": "ipython",
    "version": 3
   },
   "file_extension": ".py",
   "mimetype": "text/x-python",
   "name": "python",
   "nbconvert_exporter": "python",
   "pygments_lexer": "ipython3",
   "version": "3.7.6"
  }
 },
 "nbformat": 4,
 "nbformat_minor": 4
}
