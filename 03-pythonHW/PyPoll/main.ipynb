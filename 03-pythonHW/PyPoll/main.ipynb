{
 "cells": [
  {
   "cell_type": "code",
   "execution_count": 10,
   "metadata": {},
   "outputs": [],
   "source": [
    "#import dependences \n",
    "import os \n",
    "import pandas as pd \n",
    "import numpy as np\n",
    "from collections import Counter "
   ]
  },
  {
   "cell_type": "code",
   "execution_count": 2,
   "metadata": {},
   "outputs": [
    {
     "data": {
      "text/html": [
       "<div>\n",
       "<style scoped>\n",
       "    .dataframe tbody tr th:only-of-type {\n",
       "        vertical-align: middle;\n",
       "    }\n",
       "\n",
       "    .dataframe tbody tr th {\n",
       "        vertical-align: top;\n",
       "    }\n",
       "\n",
       "    .dataframe thead th {\n",
       "        text-align: right;\n",
       "    }\n",
       "</style>\n",
       "<table border=\"1\" class=\"dataframe\">\n",
       "  <thead>\n",
       "    <tr style=\"text-align: right;\">\n",
       "      <th></th>\n",
       "      <th>Voter ID</th>\n",
       "      <th>County</th>\n",
       "      <th>Candidate</th>\n",
       "    </tr>\n",
       "  </thead>\n",
       "  <tbody>\n",
       "    <tr>\n",
       "      <th>0</th>\n",
       "      <td>12864552</td>\n",
       "      <td>Marsh</td>\n",
       "      <td>Khan</td>\n",
       "    </tr>\n",
       "    <tr>\n",
       "      <th>1</th>\n",
       "      <td>17444633</td>\n",
       "      <td>Marsh</td>\n",
       "      <td>Correy</td>\n",
       "    </tr>\n",
       "    <tr>\n",
       "      <th>2</th>\n",
       "      <td>19330107</td>\n",
       "      <td>Marsh</td>\n",
       "      <td>Khan</td>\n",
       "    </tr>\n",
       "    <tr>\n",
       "      <th>3</th>\n",
       "      <td>19865775</td>\n",
       "      <td>Queen</td>\n",
       "      <td>Khan</td>\n",
       "    </tr>\n",
       "    <tr>\n",
       "      <th>4</th>\n",
       "      <td>11927875</td>\n",
       "      <td>Marsh</td>\n",
       "      <td>Khan</td>\n",
       "    </tr>\n",
       "  </tbody>\n",
       "</table>\n",
       "</div>"
      ],
      "text/plain": [
       "   Voter ID County Candidate\n",
       "0  12864552  Marsh      Khan\n",
       "1  17444633  Marsh    Correy\n",
       "2  19330107  Marsh      Khan\n",
       "3  19865775  Queen      Khan\n",
       "4  11927875  Marsh      Khan"
      ]
     },
     "execution_count": 2,
     "metadata": {},
     "output_type": "execute_result"
    }
   ],
   "source": [
    "#read in csv file \n",
    "\n",
    "poll_data = '/Users/jcook/python-challenge/PyPoll/Resources/election_data.csv'\n",
    "\n",
    "election_df = pd.read_csv(poll_data)\n",
    "\n",
    "election_df.head()"
   ]
  },
  {
   "cell_type": "code",
   "execution_count": 3,
   "metadata": {},
   "outputs": [
    {
     "name": "stdout",
     "output_type": "stream",
     "text": [
      "3521001\n"
     ]
    }
   ],
   "source": [
    "#calculate the total number of votes cast\n",
    "total_votes = election_df['Voter ID'].count()\n",
    "print(total_votes)"
   ]
  },
  {
   "cell_type": "code",
   "execution_count": 4,
   "metadata": {},
   "outputs": [
    {
     "name": "stdout",
     "output_type": "stream",
     "text": [
      "Khan        2218231\n",
      "Correy       704200\n",
      "Li           492940\n",
      "O'Tooley     105630\n",
      "Name: Candidate, dtype: int64\n"
     ]
    }
   ],
   "source": [
    "#generate a complete list of canidates that recieved votes \n",
    "candidates = election_df['Candidate'].value_counts()\n",
    "print(candidates)"
   ]
  },
  {
   "cell_type": "code",
   "execution_count": 5,
   "metadata": {},
   "outputs": [
    {
     "name": "stdout",
     "output_type": "stream",
     "text": [
      "2218231\n",
      "704200\n",
      "492940\n",
      "105630\n"
     ]
    }
   ],
   "source": [
    "#the total number of votes each canadate won\n",
    "khan_df = election_df.loc[election_df['Candidate']== 'Khan']\n",
    "khan_total = khan_df['Candidate'].count()\n",
    "print(khan_total)\n",
    "\n",
    "correy_df = election_df.loc[election_df['Candidate']== 'Correy']\n",
    "correy_total = correy_df['Candidate'].count()\n",
    "print(correy_total)\n",
    "\n",
    "li_df = election_df.loc[election_df['Candidate']== 'Li']\n",
    "li_total = li_df['Candidate'].count()\n",
    "print(li_total)\n",
    "\n",
    "otooley_df = election_df.loc[election_df['Candidate']== 'O\\'Tooley']\n",
    "otooley_total = otooley_df['Candidate'].count()\n",
    "print(otooley_total)"
   ]
  },
  {
   "cell_type": "code",
   "execution_count": 6,
   "metadata": {},
   "outputs": [
    {
     "name": "stdout",
     "output_type": "stream",
     "text": [
      "63.00001\n",
      "19.99999\n",
      "14.0\n",
      "3.0\n"
     ]
    }
   ],
   "source": [
    "#the precentage of each vote \n",
    "khan_pre = (khan_total/total_votes)* 100\n",
    "khan_pre_r = khan_pre.round(5)\n",
    "print(khan_pre_r)\n",
    "\n",
    "correy_pre = (correy_total/total_votes)* 100\n",
    "correy_pre_r = correy_pre.round(5)\n",
    "print(correy_pre_r)\n",
    "\n",
    "li_pre = (li_total/total_votes)* 100\n",
    "li_pre_r = li_pre.round(5)\n",
    "print(li_pre_r)\n",
    "\n",
    "otooley_pre = (otooley_total/total_votes)* 100\n",
    "otooley_pre_r = otooley_pre.round(5)\n",
    "print(otooley_pre_r)"
   ]
  },
  {
   "cell_type": "code",
   "execution_count": 18,
   "metadata": {},
   "outputs": [
    {
     "name": "stdout",
     "output_type": "stream",
     "text": [
      "0    Khan\n",
      "dtype: object\n"
     ]
    }
   ],
   "source": [
    "#the winner of the election based on the popular vote \n",
    "winner_df = election_df['Candidate'].astype(str)\n",
    "winner = winner_df.mode()\n",
    "print(winner)"
   ]
  },
  {
   "cell_type": "code",
   "execution_count": 19,
   "metadata": {},
   "outputs": [
    {
     "name": "stdout",
     "output_type": "stream",
     "text": [
      "Election Results\n",
      "---------------------\n",
      "Total Votes:  3521001\n",
      "---------------------\n",
      "Khan: 63.00001 % ( 2218231 )\n",
      "Correy: 19.99999 % ( 704200 )\n",
      "Li: 14.0 % ( 492940 )\n",
      "O'Tooley: 3.0 % ( 105630 )\n",
      "Winner: 0    Khan\n",
      "dtype: object\n",
      "---------------------\n"
     ]
    }
   ],
   "source": [
    "#print results found above \n",
    "\n",
    "print('Election Results')\n",
    "print('---------------------')\n",
    "print('Total Votes: ', total_votes)\n",
    "print('---------------------')\n",
    "print('Khan:', khan_pre_r, '%', '(', khan_total,')')\n",
    "print('Correy:', correy_pre_r, '%', '(', correy_total,')')\n",
    "print('Li:', li_pre_r, '%', '(', li_total,')')\n",
    "print('O\\'Tooley:', otooley_pre_r, '%', '(', otooley_total,')')\n",
    "print('Winner:', winner)\n",
    "print('---------------------')\n",
    "\n",
    "final_data = [['Total Votes:', total_votes],\n",
    "             ['--------------','----------'],\n",
    "             ['Khan:', khan_pre_r, khan_total],\n",
    "             ['Correy:', correy_pre_r, correy_total],\n",
    "              ['Li']\n",
    "             ['O\\'Tooley:', otooley_pre_r, otooley_total]]"
   ]
  },
  {
   "cell_type": "code",
   "execution_count": null,
   "metadata": {},
   "outputs": [],
   "source": []
  }
 ],
 "metadata": {
  "kernelspec": {
   "display_name": "Python 3",
   "language": "python",
   "name": "python3"
  },
  "language_info": {
   "codemirror_mode": {
    "name": "ipython",
    "version": 3
   },
   "file_extension": ".py",
   "mimetype": "text/x-python",
   "name": "python",
   "nbconvert_exporter": "python",
   "pygments_lexer": "ipython3",
   "version": "3.7.6"
  }
 },
 "nbformat": 4,
 "nbformat_minor": 4
}
